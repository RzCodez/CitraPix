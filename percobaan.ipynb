{
 "cells": [
  {
   "cell_type": "code",
   "execution_count": 1,
   "metadata": {},
   "outputs": [
    {
     "data": {
      "text/plain": [
       "-1"
      ]
     },
     "execution_count": 1,
     "metadata": {},
     "output_type": "execute_result"
    }
   ],
   "source": [
    "import cv2\n",
    "import numpy as np\n",
    "\n",
    "image = cv2.imread(\"sample_3.jpg\")\n",
    "\n",
    "gaussian_blur = cv2.GaussianBlur(image,(13,13),3)\n",
    "\n",
    "# sharpened = cv2.addWeighted(image, 1.5, gaussian_blur, -0.5, 0)\n",
    "# smooth = cv2.blur(sharpened,(5,5), 0)\n",
    "cv2.imshow('Gaussian',gaussian_blur)\n",
    "cv2.imshow('Original',image)\n",
    "# cv2.imshow('Sharpened',sharpened)\n",
    "# cv2.imshow('Smooth',smooth)\n",
    "cv2.waitKey(0)\n"
   ]
  }
 ],
 "metadata": {
  "kernelspec": {
   "display_name": ".venv",
   "language": "python",
   "name": "python3"
  },
  "language_info": {
   "codemirror_mode": {
    "name": "ipython",
    "version": 3
   },
   "file_extension": ".py",
   "mimetype": "text/x-python",
   "name": "python",
   "nbconvert_exporter": "python",
   "pygments_lexer": "ipython3",
   "version": "3.12.0"
  }
 },
 "nbformat": 4,
 "nbformat_minor": 2
}
